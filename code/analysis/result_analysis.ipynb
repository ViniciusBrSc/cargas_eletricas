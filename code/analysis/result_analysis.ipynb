{
 "cells": [
  {
   "cell_type": "code",
   "execution_count": 2,
   "metadata": {},
   "outputs": [
    {
     "name": "stdout",
     "output_type": "stream",
     "text": [
      "Tensorflow version: 2.9.1\n"
     ]
    }
   ],
   "source": [
    "import numpy as np\n",
    "import pandas as pd\n",
    "import tensorflow as tf\n",
    "import seaborn as sns\n",
    "import matplotlib.pyplot as plt\n",
    "\n",
    "from sklearn.model_selection import train_test_split\n",
    "from keras.layers import Dense, Dropout\n",
    "from keras import Sequential\n",
    "from keras.models import load_model\n",
    "from sklearn.metrics import confusion_matrix\n",
    "\n",
    "print(f'Tensorflow version: {tf.__version__}')"
   ]
  },
  {
   "cell_type": "code",
   "execution_count": 3,
   "metadata": {},
   "outputs": [
    {
     "data": {
      "text/html": [
       "<div>\n",
       "<style scoped>\n",
       "    .dataframe tbody tr th:only-of-type {\n",
       "        vertical-align: middle;\n",
       "    }\n",
       "\n",
       "    .dataframe tbody tr th {\n",
       "        vertical-align: top;\n",
       "    }\n",
       "\n",
       "    .dataframe thead th {\n",
       "        text-align: right;\n",
       "    }\n",
       "</style>\n",
       "<table border=\"1\" class=\"dataframe\">\n",
       "  <thead>\n",
       "    <tr style=\"text-align: right;\">\n",
       "      <th></th>\n",
       "      <th>PC_0</th>\n",
       "      <th>PC_1</th>\n",
       "      <th>PC_2</th>\n",
       "      <th>PC_3</th>\n",
       "      <th>PC_4</th>\n",
       "      <th>PC_5</th>\n",
       "      <th>PC_6</th>\n",
       "      <th>PC_7</th>\n",
       "      <th>PC_8</th>\n",
       "      <th>PC_9</th>\n",
       "      <th>PC_10</th>\n",
       "      <th>PC_11</th>\n",
       "      <th>PC_12</th>\n",
       "      <th>PC_13</th>\n",
       "      <th>PC_14</th>\n",
       "      <th>Classes</th>\n",
       "    </tr>\n",
       "  </thead>\n",
       "  <tbody>\n",
       "    <tr>\n",
       "      <th>0</th>\n",
       "      <td>0.804739</td>\n",
       "      <td>9.932256</td>\n",
       "      <td>-2.952120</td>\n",
       "      <td>1.727607</td>\n",
       "      <td>1.139999</td>\n",
       "      <td>1.220739</td>\n",
       "      <td>-3.010333</td>\n",
       "      <td>6.213570</td>\n",
       "      <td>-0.245333</td>\n",
       "      <td>-4.947468</td>\n",
       "      <td>3.224966</td>\n",
       "      <td>-0.333513</td>\n",
       "      <td>1.028451</td>\n",
       "      <td>-1.138487</td>\n",
       "      <td>-0.724202</td>\n",
       "      <td>1</td>\n",
       "    </tr>\n",
       "    <tr>\n",
       "      <th>1</th>\n",
       "      <td>16.187274</td>\n",
       "      <td>-0.789747</td>\n",
       "      <td>-4.951606</td>\n",
       "      <td>4.676206</td>\n",
       "      <td>0.482721</td>\n",
       "      <td>4.361189</td>\n",
       "      <td>-1.154607</td>\n",
       "      <td>-0.333671</td>\n",
       "      <td>-0.566406</td>\n",
       "      <td>0.654430</td>\n",
       "      <td>-2.366882</td>\n",
       "      <td>-1.191813</td>\n",
       "      <td>-2.809570</td>\n",
       "      <td>1.463848</td>\n",
       "      <td>-0.549039</td>\n",
       "      <td>1</td>\n",
       "    </tr>\n",
       "    <tr>\n",
       "      <th>2</th>\n",
       "      <td>4.970044</td>\n",
       "      <td>-1.496823</td>\n",
       "      <td>-6.723726</td>\n",
       "      <td>1.026952</td>\n",
       "      <td>-0.778361</td>\n",
       "      <td>-1.203140</td>\n",
       "      <td>-2.323602</td>\n",
       "      <td>1.599791</td>\n",
       "      <td>-1.668225</td>\n",
       "      <td>-1.622038</td>\n",
       "      <td>3.157523</td>\n",
       "      <td>0.739755</td>\n",
       "      <td>-0.118455</td>\n",
       "      <td>-1.120964</td>\n",
       "      <td>3.245290</td>\n",
       "      <td>1</td>\n",
       "    </tr>\n",
       "    <tr>\n",
       "      <th>3</th>\n",
       "      <td>2.460069</td>\n",
       "      <td>-2.860497</td>\n",
       "      <td>-5.417960</td>\n",
       "      <td>0.436978</td>\n",
       "      <td>-0.153589</td>\n",
       "      <td>-1.637444</td>\n",
       "      <td>-2.642204</td>\n",
       "      <td>3.179805</td>\n",
       "      <td>-0.552393</td>\n",
       "      <td>-2.282255</td>\n",
       "      <td>2.672498</td>\n",
       "      <td>0.495897</td>\n",
       "      <td>0.048147</td>\n",
       "      <td>-0.114480</td>\n",
       "      <td>0.224475</td>\n",
       "      <td>1</td>\n",
       "    </tr>\n",
       "    <tr>\n",
       "      <th>4</th>\n",
       "      <td>-4.168125</td>\n",
       "      <td>-5.182046</td>\n",
       "      <td>-1.309993</td>\n",
       "      <td>-1.370185</td>\n",
       "      <td>0.030386</td>\n",
       "      <td>0.221138</td>\n",
       "      <td>1.950496</td>\n",
       "      <td>0.416317</td>\n",
       "      <td>1.254989</td>\n",
       "      <td>-2.496386</td>\n",
       "      <td>0.705462</td>\n",
       "      <td>-1.148448</td>\n",
       "      <td>-0.652334</td>\n",
       "      <td>0.492994</td>\n",
       "      <td>-1.778258</td>\n",
       "      <td>2</td>\n",
       "    </tr>\n",
       "    <tr>\n",
       "      <th>...</th>\n",
       "      <td>...</td>\n",
       "      <td>...</td>\n",
       "      <td>...</td>\n",
       "      <td>...</td>\n",
       "      <td>...</td>\n",
       "      <td>...</td>\n",
       "      <td>...</td>\n",
       "      <td>...</td>\n",
       "      <td>...</td>\n",
       "      <td>...</td>\n",
       "      <td>...</td>\n",
       "      <td>...</td>\n",
       "      <td>...</td>\n",
       "      <td>...</td>\n",
       "      <td>...</td>\n",
       "      <td>...</td>\n",
       "    </tr>\n",
       "    <tr>\n",
       "      <th>95</th>\n",
       "      <td>-3.147604</td>\n",
       "      <td>-4.117617</td>\n",
       "      <td>-0.477593</td>\n",
       "      <td>-1.120898</td>\n",
       "      <td>-0.850432</td>\n",
       "      <td>0.728094</td>\n",
       "      <td>-0.516973</td>\n",
       "      <td>-1.074211</td>\n",
       "      <td>-0.009713</td>\n",
       "      <td>0.359087</td>\n",
       "      <td>-0.867715</td>\n",
       "      <td>0.493532</td>\n",
       "      <td>-0.515811</td>\n",
       "      <td>0.491301</td>\n",
       "      <td>-0.320257</td>\n",
       "      <td>5</td>\n",
       "    </tr>\n",
       "    <tr>\n",
       "      <th>96</th>\n",
       "      <td>-6.106749</td>\n",
       "      <td>5.479102</td>\n",
       "      <td>2.056551</td>\n",
       "      <td>-0.721723</td>\n",
       "      <td>-1.440073</td>\n",
       "      <td>0.811643</td>\n",
       "      <td>0.444532</td>\n",
       "      <td>-0.957423</td>\n",
       "      <td>-0.112422</td>\n",
       "      <td>-1.579596</td>\n",
       "      <td>-0.670466</td>\n",
       "      <td>-0.316001</td>\n",
       "      <td>-0.048992</td>\n",
       "      <td>-0.485471</td>\n",
       "      <td>0.126146</td>\n",
       "      <td>6</td>\n",
       "    </tr>\n",
       "    <tr>\n",
       "      <th>97</th>\n",
       "      <td>-5.078876</td>\n",
       "      <td>0.747347</td>\n",
       "      <td>1.076584</td>\n",
       "      <td>-0.683721</td>\n",
       "      <td>-0.806197</td>\n",
       "      <td>-0.131654</td>\n",
       "      <td>1.458761</td>\n",
       "      <td>-0.715981</td>\n",
       "      <td>-0.807390</td>\n",
       "      <td>-2.602165</td>\n",
       "      <td>-1.113317</td>\n",
       "      <td>0.742115</td>\n",
       "      <td>-1.413547</td>\n",
       "      <td>0.724775</td>\n",
       "      <td>-1.939868</td>\n",
       "      <td>6</td>\n",
       "    </tr>\n",
       "    <tr>\n",
       "      <th>98</th>\n",
       "      <td>-4.547102</td>\n",
       "      <td>-13.501987</td>\n",
       "      <td>-1.218863</td>\n",
       "      <td>-1.386661</td>\n",
       "      <td>-1.644493</td>\n",
       "      <td>-4.081425</td>\n",
       "      <td>-2.921893</td>\n",
       "      <td>-1.743130</td>\n",
       "      <td>-0.530214</td>\n",
       "      <td>2.492557</td>\n",
       "      <td>-0.590194</td>\n",
       "      <td>0.727877</td>\n",
       "      <td>0.415277</td>\n",
       "      <td>1.097116</td>\n",
       "      <td>-0.958785</td>\n",
       "      <td>7</td>\n",
       "    </tr>\n",
       "    <tr>\n",
       "      <th>99</th>\n",
       "      <td>-14.982048</td>\n",
       "      <td>-7.255134</td>\n",
       "      <td>-2.768689</td>\n",
       "      <td>18.495251</td>\n",
       "      <td>3.477099</td>\n",
       "      <td>9.119969</td>\n",
       "      <td>5.300067</td>\n",
       "      <td>0.492155</td>\n",
       "      <td>-1.486581</td>\n",
       "      <td>3.209975</td>\n",
       "      <td>2.723501</td>\n",
       "      <td>1.525622</td>\n",
       "      <td>2.418822</td>\n",
       "      <td>-0.485798</td>\n",
       "      <td>-0.464157</td>\n",
       "      <td>7</td>\n",
       "    </tr>\n",
       "  </tbody>\n",
       "</table>\n",
       "<p>100 rows × 16 columns</p>\n",
       "</div>"
      ],
      "text/plain": [
       "         PC_0       PC_1      PC_2       PC_3      PC_4      PC_5      PC_6  \\\n",
       "0    0.804739   9.932256 -2.952120   1.727607  1.139999  1.220739 -3.010333   \n",
       "1   16.187274  -0.789747 -4.951606   4.676206  0.482721  4.361189 -1.154607   \n",
       "2    4.970044  -1.496823 -6.723726   1.026952 -0.778361 -1.203140 -2.323602   \n",
       "3    2.460069  -2.860497 -5.417960   0.436978 -0.153589 -1.637444 -2.642204   \n",
       "4   -4.168125  -5.182046 -1.309993  -1.370185  0.030386  0.221138  1.950496   \n",
       "..        ...        ...       ...        ...       ...       ...       ...   \n",
       "95  -3.147604  -4.117617 -0.477593  -1.120898 -0.850432  0.728094 -0.516973   \n",
       "96  -6.106749   5.479102  2.056551  -0.721723 -1.440073  0.811643  0.444532   \n",
       "97  -5.078876   0.747347  1.076584  -0.683721 -0.806197 -0.131654  1.458761   \n",
       "98  -4.547102 -13.501987 -1.218863  -1.386661 -1.644493 -4.081425 -2.921893   \n",
       "99 -14.982048  -7.255134 -2.768689  18.495251  3.477099  9.119969  5.300067   \n",
       "\n",
       "        PC_7      PC_8      PC_9     PC_10     PC_11     PC_12     PC_13  \\\n",
       "0   6.213570 -0.245333 -4.947468  3.224966 -0.333513  1.028451 -1.138487   \n",
       "1  -0.333671 -0.566406  0.654430 -2.366882 -1.191813 -2.809570  1.463848   \n",
       "2   1.599791 -1.668225 -1.622038  3.157523  0.739755 -0.118455 -1.120964   \n",
       "3   3.179805 -0.552393 -2.282255  2.672498  0.495897  0.048147 -0.114480   \n",
       "4   0.416317  1.254989 -2.496386  0.705462 -1.148448 -0.652334  0.492994   \n",
       "..       ...       ...       ...       ...       ...       ...       ...   \n",
       "95 -1.074211 -0.009713  0.359087 -0.867715  0.493532 -0.515811  0.491301   \n",
       "96 -0.957423 -0.112422 -1.579596 -0.670466 -0.316001 -0.048992 -0.485471   \n",
       "97 -0.715981 -0.807390 -2.602165 -1.113317  0.742115 -1.413547  0.724775   \n",
       "98 -1.743130 -0.530214  2.492557 -0.590194  0.727877  0.415277  1.097116   \n",
       "99  0.492155 -1.486581  3.209975  2.723501  1.525622  2.418822 -0.485798   \n",
       "\n",
       "       PC_14  Classes  \n",
       "0  -0.724202        1  \n",
       "1  -0.549039        1  \n",
       "2   3.245290        1  \n",
       "3   0.224475        1  \n",
       "4  -1.778258        2  \n",
       "..       ...      ...  \n",
       "95 -0.320257        5  \n",
       "96  0.126146        6  \n",
       "97 -1.939868        6  \n",
       "98 -0.958785        7  \n",
       "99 -0.464157        7  \n",
       "\n",
       "[100 rows x 16 columns]"
      ]
     },
     "execution_count": 3,
     "metadata": {},
     "output_type": "execute_result"
    }
   ],
   "source": [
    "main_dir = \"C:/Users/Vinicius/Desktop/DATA SCIENCE/BOOTCAMP/Projeto - IoT/cargas_eletricas\"\n",
    "df_original = pd.read_csv(f\"{main_dir}/data/processed/pca_15.csv\", index_col=[0])\n",
    "df = df_original.copy()\n",
    "df"
   ]
  },
  {
   "cell_type": "code",
   "execution_count": 4,
   "metadata": {},
   "outputs": [],
   "source": [
    "X = df.drop('Classes', axis=1)\n",
    "Y = df['Classes']\n",
    "x_train, x_test, y_train, y_test = train_test_split(X, Y, test_size=0.3, random_state=42, stratify=Y)"
   ]
  },
  {
   "cell_type": "code",
   "execution_count": 5,
   "metadata": {},
   "outputs": [],
   "source": [
    "main_dir = \"C:/Users/Vinicius/desktop/data science/bootcamp/Projeto - IoT/cargas_eletricas\"\n",
    "my_model = load_model(f\"{main_dir}/code/model/NN15_test1.h5\")"
   ]
  },
  {
   "cell_type": "code",
   "execution_count": 6,
   "metadata": {},
   "outputs": [
    {
     "name": "stdout",
     "output_type": "stream",
     "text": [
      "3/3 [==============================] - 1s 3ms/step\n"
     ]
    },
    {
     "data": {
      "text/plain": [
       "<AxesSubplot:ylabel='0'>"
      ]
     },
     "execution_count": 6,
     "metadata": {},
     "output_type": "execute_result"
    },
    {
     "data": {
      "image/png": "[encoded data removed]",
      "text/plain": [
       "<Figure size 432x288 with 1 Axes>"
      ]
     },
     "metadata": {
      "needs_background": "light"
     },
     "output_type": "display_data"
    }
   ],
   "source": [
    "sns.lineplot(x=np.arange(0,7),y=pd.DataFrame(my_model.predict(x_train)).T[0])"
   ]
  },
  {
   "cell_type": "code",
   "execution_count": 7,
   "metadata": {},
   "outputs": [
    {
     "name": "stdout",
     "output_type": "stream",
     "text": [
      "3/3 [==============================] - 0s 3ms/step\n"
     ]
    },
    {
     "data": {
      "text/plain": [
       "array([4, 2, 3, 4, 1, 2, 0, 3, 0, 2, 1, 4, 1, 6, 1, 2, 1, 3, 0, 1, 2, 1,\n",
       "       1, 0, 2, 1, 3, 4, 3, 2, 2, 1, 4, 4, 0, 1, 2, 2, 6, 2, 2, 1, 2, 4,\n",
       "       2, 1, 1, 4, 2, 1, 4, 6, 0, 2, 2, 2, 2, 0, 2, 4, 2, 1, 1, 3, 0, 4,\n",
       "       0, 0, 0, 5], dtype=int64)"
      ]
     },
     "execution_count": 7,
     "metadata": {},
     "output_type": "execute_result"
    }
   ],
   "source": [
    "np.argmax(my_model.predict(x_train),axis=1)"
   ]
  },
  {
   "cell_type": "code",
   "execution_count": 8,
   "metadata": {},
   "outputs": [
    {
     "name": "stdout",
     "output_type": "stream",
     "text": [
      "3/3 [==============================] - 0s 2ms/step\n",
      "1/1 [==============================] - 0s 19ms/step\n"
     ]
    }
   ],
   "source": [
    "y_train_pred = np.argmax(my_model.predict(x_train), axis=1) + 1\n",
    "y_test_pred = np.argmax(my_model.predict(x_test), axis=1) + 1"
   ]
  },
  {
   "cell_type": "code",
   "execution_count": 11,
   "metadata": {},
   "outputs": [
    {
     "data": {
      "text/plain": [
       "Text(0.5, 1.0, 'Confusion Matrix from training set')"
      ]
     },
     "execution_count": 11,
     "metadata": {},
     "output_type": "execute_result"
    },
    {
     "data": {
      "image/png": "[encoded data removed]",
      "text/plain": [
       "<Figure size 504x288 with 2 Axes>"
      ]
     },
     "metadata": {
      "needs_background": "light"
     },
     "output_type": "display_data"
    }
   ],
   "source": [
    "cmf_train = confusion_matrix(y_train, y_train_pred)\n",
    "plt.figure(figsize=(7,4))\n",
    "sns.heatmap(cmf_train, annot=True, fmt='d', cmap='Reds', linecolor='gray')\n",
    "plt.xlabel('P R E D I C T E D')\n",
    "plt.ylabel('R E A L')\n",
    "plt.title('Confusion Matrix from training set')"
   ]
  },
  {
   "cell_type": "code",
   "execution_count": 12,
   "metadata": {},
   "outputs": [
    {
     "data": {
      "text/plain": [
       "Text(0.5, 1.0, 'Confusion Matrix from test set')"
      ]
     },
     "execution_count": 12,
     "metadata": {},
     "output_type": "execute_result"
    },
    {
     "data": {
      "image/png": "[encoded data removed]",
      "text/plain": [
       "<Figure size 504x288 with 2 Axes>"
      ]
     },
     "metadata": {
      "needs_background": "light"
     },
     "output_type": "display_data"
    }
   ],
   "source": [
    "cmf_test = confusion_matrix(y_test, y_test_pred)\n",
    "plt.figure(figsize=(7,4))\n",
    "sns.heatmap(cmf_test, annot=True, fmt='d', cmap='Reds', linecolor='gray')\n",
    "plt.xlabel('P R E D I C T E D')\n",
    "plt.ylabel('R E A L')\n",
    "plt.title('Confusion Matrix from test set')\n",
    "\n",
    "# Não era para ser 100% no teste... "
   ]
  },
  {
   "cell_type": "code",
   "execution_count": null,
   "metadata": {},
   "outputs": [],
   "source": []
  }
 ],
 "metadata": {
  "interpreter": {
   "hash": "85c9bd8067d92643da4172189b59aa6558319707c70142a0050fbe8ec63fb7b7"
  },
  "kernelspec": {
   "display_name": "Python 3.10.2 ('.cargas_eletricas': venv)",
   "language": "python",
   "name": "python3"
  },
  "language_info": {
   "codemirror_mode": {
    "name": "ipython",
    "version": 3
   },
   "file_extension": ".py",
   "mimetype": "text/x-python",
   "name": "python",
   "nbconvert_exporter": "python",
   "pygments_lexer": "ipython3",
   "version": "3.10.2"
  },
  "orig_nbformat": 4
 },
 "nbformat": 4,
 "nbformat_minor": 2
}
