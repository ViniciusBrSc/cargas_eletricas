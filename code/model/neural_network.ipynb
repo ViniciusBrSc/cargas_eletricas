{
 "cells": [
  {
   "cell_type": "code",
   "execution_count": null,
   "metadata": {},
   "outputs": [],
   "source": []
  }
 ],
 "metadata": {
  "interpreter": {
   "hash": "85c9bd8067d92643da4172189b59aa6558319707c70142a0050fbe8ec63fb7b7"
  },
  "kernelspec": {
   "display_name": "Python 3.10.2 ('.cargas_eletricas': venv)",
   "language": "python",
   "name": "python3"
  },
  "language_info": {
   "name": "python",
   "version": "3.10.2"
  },
  "orig_nbformat": 4
 },
 "nbformat": 4,
 "nbformat_minor": 2
}
